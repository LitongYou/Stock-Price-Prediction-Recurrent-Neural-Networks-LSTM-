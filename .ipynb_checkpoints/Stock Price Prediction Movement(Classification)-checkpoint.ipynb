{
 "cells": [
  {
   "cell_type": "code",
   "execution_count": 2,
   "metadata": {},
   "outputs": [
    {
     "name": "stderr",
     "output_type": "stream",
     "text": [
      "Using TensorFlow backend.\n"
     ]
    }
   ],
   "source": [
    "#importing libraries\n",
    "import numpy as np\n",
    "import pandas as pd\n",
    "from matplotlib import pyplot as plt\n",
    "from keras.models import Sequential\n",
    "from keras.layers import Dense,Activation,Dropout\n",
    "from keras.layers import LSTM,TimeDistributed\n",
    "from sklearn.preprocessing import MinMaxScaler\n",
    "from sklearn.metrics import mean_squared_error\n",
    "from keras import optimizers\n",
    "import math,time\n",
    "import pickle \n",
    "from pandas import DataFrame\n",
    "from keras.utils import plot_model\n",
    "from IPython.display import Image\n",
    "from IPython.core.display import HTML "
   ]
  },
  {
   "cell_type": "markdown",
   "metadata": {
    "collapsed": true
   },
   "source": [
    "# Recurrent Neural Networks"
   ]
  },
  {
   "cell_type": "markdown",
   "metadata": {},
   "source": [
    "## Introduction\n",
    "\n",
    "Recurrent Neural Networks are a type of neural networks with a feedback mechanism i.e. the ouput of a layer is added to the next input and fed back to same layer.\n",
    "They solve the issue of maintaining sequential information in a neural netorks.\n",
    "They are widely used in the prediction for stock price, sales, weather,etc.\n",
    "\n",
    "\n",
    "<img src =http://colah.github.io/posts/2015-08-Understanding-LSTMs/img/RNN-unrolled.png>\n",
    "\n",
    "[http://colah.github.io/posts/2015-08-Understanding-LSTMs/](http://colah.github.io/posts/2015-08-Understanding-LSTMs/)\n",
    "\n",
    " "
   ]
  },
  {
   "cell_type": "markdown",
   "metadata": {},
   "source": [
    "### Type of Rnn Architecture \n",
    "__Methodolgy__\n",
    "- Fully Recurrent Network\n",
    "- Recursive Neural Networks\n",
    "- Hopfield Networks\n",
    "- Elman Networks and Jordan Networks\n",
    "- Echo State Networks\n",
    "- Neural history compressor\n",
    "- **The Long Short-Term Memory Model (LSTM)**\n",
    "\n",
    "__Input-Output Setting__\n",
    "<img src=http://karpathy.github.io/assets/rnn/diags.jpeg width =\"720\"/>\n",
    "[karpathy.github.io/2015/05/21/rnn-effectiveness](http://karpathy.github.io/2015/05/21/rnn-effectiveness/)"
   ]
  },
  {
   "cell_type": "markdown",
   "metadata": {},
   "source": [
    "\n",
    "However, they are faced with a lot of challenges. They are quite sensitive to changes in their paramters. Vanishing and Exploding gradients is major problem in these types of networks.\n",
    "\n",
    "Hochreiter and Schmidhuber published a paper in 1997 to solve this problem by introducing __LSTM Long Short Term__ units."
   ]
  },
  {
   "cell_type": "markdown",
   "metadata": {},
   "source": [
    "### LSTM Architecture\n",
    "Each LSTM has three gates which help to maintain the data \n",
    "- The \"Input\" or \"Write\" Gate handles the writing of the data\n",
    "\n",
    "- The \"output\" or \"Read\" Gate sends the data back to the recurrent Network\n",
    "\n",
    "- The \"Forget\" Gates is responsible for maintaing and storing data in each cell\n",
    "\n",
    "<img src=http://colah.github.io/posts/2015-08-Understanding-LSTMs/img/LSTM3-var-GRU.png width =\"720\"/>\n",
    "[colah.github.io/posts/2015-08-Understanding-LSTMs](colah.github.io/posts/2015-08-Understanding-LSTMs)"
   ]
  },
  {
   "cell_type": "markdown",
   "metadata": {},
   "source": [
    "## Business Case at CRL\n",
    "### Stock Price Prediction of CRL listed at NYSE\n",
    "\n",
    "- Efficient market Hypothesis \n",
    "(https://en.wikipedia.org/wiki/Efficient-market_hypothesis)[https://en.wikipedia.org/wiki/Efficient-market_hypothesis]\n",
    "\n",
    "- Fundamental and technical analyts argue that the we can make eductaed guessed about the stock market better than random chance. \n"
   ]
  },
  {
   "cell_type": "markdown",
   "metadata": {},
   "source": [
    "Stock Prices are affected by a phenomenon known as __autocorrelation__. A variety of other features and indexes do affect the stock prices.\n",
    "In this study we are going to use closing price lag (1) values of NBI NASDAQ Biotechnology Index and CRL NYSE(Charles River Laboratories) Stock Index for predicting the future trend of closing price (up(1) or down (0)) of CRL NYSE stock price.\n",
    "The __NASDAQ Biotechnology Index__ is a stock market index made up of securities of NASDAQ-listed companies classified according to the Industry Classification Benchmark as either Biotechnology or Pharmaceuticals."
   ]
  },
  {
   "cell_type": "markdown",
   "metadata": {},
   "source": [
    "### Step 1. Getting the Data \n",
    "__NBI__ and __CRL__ data from 01-04-2010 till 07-11-2017  has been pulled up from yahoo finances and stored locally in csv"
   ]
  },
  {
   "cell_type": "code",
   "execution_count": 3,
   "metadata": {},
   "outputs": [
    {
     "data": {
      "text/plain": [
       "Date                 object\n",
       "Open                float64\n",
       "High                float64\n",
       "Low                 float64\n",
       "Close               float64\n",
       "Adj Close           float64\n",
       "Volume                int64\n",
       "close_diff          float64\n",
       "Vol_diff            float64\n",
       "crl_future_1          int32\n",
       "opp_crl_future_1      int32\n",
       "dtype: object"
      ]
     },
     "execution_count": 3,
     "metadata": {},
     "output_type": "execute_result"
    }
   ],
   "source": [
    "#Reading the csv  file from local\n",
    "crl = pd.read_csv(\"C:/Users/Shantam Gupta/Desktop/RNN/Data/crl.csv\", index_col=False)\n",
    "\n",
    "#Name list for features\n",
    "pred_name =[]\n",
    "\n",
    "#Computing the %price difference as feature\n",
    "crl['close_diff'] = ((crl['Close']-crl['Close'].shift(1))/crl['Close']).fillna(0)\n",
    "#pred_name.append('close_diff')\n",
    "\n",
    "#Computing the Volume difference as feature\n",
    "crl['Vol_diff'] = ((crl['Volume']-crl['Volume'].shift(1))/crl['Volume']).fillna(0)\n",
    "\n",
    "#pred_name.append('Vol_diff')\n",
    "\n",
    "#Computing the stock being up (1) or down (0) over different day offsets compared to current dat closing price\n",
    "\n",
    "    \n",
    "#Respone: We are trying to predict whether the next day's tradaing will be above(1) or below(0) the current day.\n",
    "crl['crl_future_1'] = np.where(crl['Close'] > crl['Close'].shift(-1),1,0)\n",
    "\n",
    "#creating a column with the opposite of crl_future_1 \n",
    "crl['opp_crl_future_1'] = np.where(crl['crl_future_1']==1,0,1) # The label must be one-hot encoded\n",
    "\n",
    "crl.dtypes"
   ]
  },
  {
   "cell_type": "markdown",
   "metadata": {},
   "source": [
    "Reading the __NBI__ file and renaming the columns to avoid any naming conflicts with crl file"
   ]
  },
  {
   "cell_type": "code",
   "execution_count": 4,
   "metadata": {},
   "outputs": [
    {
     "data": {
      "text/html": [
       "<div>\n",
       "<style>\n",
       "    .dataframe thead tr:only-child th {\n",
       "        text-align: right;\n",
       "    }\n",
       "\n",
       "    .dataframe thead th {\n",
       "        text-align: left;\n",
       "    }\n",
       "\n",
       "    .dataframe tbody tr th {\n",
       "        vertical-align: top;\n",
       "    }\n",
       "</style>\n",
       "<table border=\"1\" class=\"dataframe\">\n",
       "  <thead>\n",
       "    <tr style=\"text-align: right;\">\n",
       "      <th></th>\n",
       "      <th>Date</th>\n",
       "      <th>nbi_open</th>\n",
       "      <th>nbi_high</th>\n",
       "      <th>nbi_low</th>\n",
       "      <th>nbi_close</th>\n",
       "      <th>nbi_adjclose</th>\n",
       "      <th>nbi_volume</th>\n",
       "      <th>nbi_close_diff</th>\n",
       "    </tr>\n",
       "  </thead>\n",
       "  <tbody>\n",
       "    <tr>\n",
       "      <th>0</th>\n",
       "      <td>2010-01-04</td>\n",
       "      <td>851.830017</td>\n",
       "      <td>857.440002</td>\n",
       "      <td>851.380005</td>\n",
       "      <td>857.440002</td>\n",
       "      <td>857.440002</td>\n",
       "      <td>0</td>\n",
       "      <td>0.000000</td>\n",
       "    </tr>\n",
       "    <tr>\n",
       "      <th>1</th>\n",
       "      <td>2010-01-05</td>\n",
       "      <td>856.039978</td>\n",
       "      <td>856.979980</td>\n",
       "      <td>846.400024</td>\n",
       "      <td>851.250000</td>\n",
       "      <td>851.250000</td>\n",
       "      <td>0</td>\n",
       "      <td>-0.007272</td>\n",
       "    </tr>\n",
       "    <tr>\n",
       "      <th>2</th>\n",
       "      <td>2010-01-06</td>\n",
       "      <td>852.559998</td>\n",
       "      <td>859.710022</td>\n",
       "      <td>852.539978</td>\n",
       "      <td>857.669983</td>\n",
       "      <td>857.669983</td>\n",
       "      <td>0</td>\n",
       "      <td>0.007485</td>\n",
       "    </tr>\n",
       "    <tr>\n",
       "      <th>3</th>\n",
       "      <td>2010-01-07</td>\n",
       "      <td>856.869995</td>\n",
       "      <td>859.940002</td>\n",
       "      <td>851.630005</td>\n",
       "      <td>858.479980</td>\n",
       "      <td>858.479980</td>\n",
       "      <td>0</td>\n",
       "      <td>0.000944</td>\n",
       "    </tr>\n",
       "    <tr>\n",
       "      <th>4</th>\n",
       "      <td>2010-01-08</td>\n",
       "      <td>855.049988</td>\n",
       "      <td>863.489990</td>\n",
       "      <td>853.489990</td>\n",
       "      <td>863.270020</td>\n",
       "      <td>863.270020</td>\n",
       "      <td>0</td>\n",
       "      <td>0.005549</td>\n",
       "    </tr>\n",
       "  </tbody>\n",
       "</table>\n",
       "</div>"
      ],
      "text/plain": [
       "         Date    nbi_open    nbi_high     nbi_low   nbi_close  nbi_adjclose  \\\n",
       "0  2010-01-04  851.830017  857.440002  851.380005  857.440002    857.440002   \n",
       "1  2010-01-05  856.039978  856.979980  846.400024  851.250000    851.250000   \n",
       "2  2010-01-06  852.559998  859.710022  852.539978  857.669983    857.669983   \n",
       "3  2010-01-07  856.869995  859.940002  851.630005  858.479980    858.479980   \n",
       "4  2010-01-08  855.049988  863.489990  853.489990  863.270020    863.270020   \n",
       "\n",
       "   nbi_volume  nbi_close_diff  \n",
       "0           0        0.000000  \n",
       "1           0       -0.007272  \n",
       "2           0        0.007485  \n",
       "3           0        0.000944  \n",
       "4           0        0.005549  "
      ]
     },
     "execution_count": 4,
     "metadata": {},
     "output_type": "execute_result"
    }
   ],
   "source": [
    "#Reading the csv file from local\n",
    "nbi = pd.read_csv(\"C:/Users/Shantam Gupta/Desktop/RNN/Data/nbi.csv\", index_col=False)\n",
    "\n",
    "#Renaming the columns to avoid clash while joining crl and nbi later on \n",
    "nbi.columns = ['Date','nbi_open','nbi_high','nbi_low','nbi_close','nbi_adjclose','nbi_volume']\n",
    "\n",
    "#Computing the %price difference as feature\n",
    "nbi['nbi_close_diff'] = ((nbi['nbi_close']-nbi['nbi_close'].shift(1))/nbi['nbi_close']).fillna(0)\n",
    "#pred_name.append('nbi_close_diff')\n",
    "\n",
    "#Computing the stock being up (1) or down (0) over different day offsets compared to current dat closing price\n",
    "#num_days_back = 5\n",
    "\n",
    "nbi.head()"
   ]
  },
  {
   "cell_type": "markdown",
   "metadata": {},
   "source": [
    "### Step 2: Preprocessing the Data\n",
    "#### 2.1) Combining the two data frames crl and nbi "
   ]
  },
  {
   "cell_type": "code",
   "execution_count": 5,
   "metadata": {},
   "outputs": [
    {
     "data": {
      "text/html": [
       "<div>\n",
       "<style>\n",
       "    .dataframe thead tr:only-child th {\n",
       "        text-align: right;\n",
       "    }\n",
       "\n",
       "    .dataframe thead th {\n",
       "        text-align: left;\n",
       "    }\n",
       "\n",
       "    .dataframe tbody tr th {\n",
       "        vertical-align: top;\n",
       "    }\n",
       "</style>\n",
       "<table border=\"1\" class=\"dataframe\">\n",
       "  <thead>\n",
       "    <tr style=\"text-align: right;\">\n",
       "      <th></th>\n",
       "      <th>Date</th>\n",
       "      <th>Open</th>\n",
       "      <th>High</th>\n",
       "      <th>Low</th>\n",
       "      <th>Close</th>\n",
       "      <th>Adj Close</th>\n",
       "      <th>Volume</th>\n",
       "      <th>close_diff</th>\n",
       "      <th>Vol_diff</th>\n",
       "      <th>crl_future_1</th>\n",
       "      <th>...</th>\n",
       "      <th>nbi_pre_6</th>\n",
       "      <th>pre_7</th>\n",
       "      <th>vol_pre_7</th>\n",
       "      <th>nbi_pre_7</th>\n",
       "      <th>pre_8</th>\n",
       "      <th>vol_pre_8</th>\n",
       "      <th>nbi_pre_8</th>\n",
       "      <th>pre_9</th>\n",
       "      <th>vol_pre_9</th>\n",
       "      <th>nbi_pre_9</th>\n",
       "    </tr>\n",
       "  </thead>\n",
       "  <tbody>\n",
       "    <tr>\n",
       "      <th>0</th>\n",
       "      <td>2010-01-04</td>\n",
       "      <td>33.740002</td>\n",
       "      <td>33.810001</td>\n",
       "      <td>33.259998</td>\n",
       "      <td>33.570000</td>\n",
       "      <td>33.570000</td>\n",
       "      <td>1000600</td>\n",
       "      <td>0.000000</td>\n",
       "      <td>0.000000</td>\n",
       "      <td>0</td>\n",
       "      <td>...</td>\n",
       "      <td>0.0</td>\n",
       "      <td>0.0</td>\n",
       "      <td>0.0</td>\n",
       "      <td>0.0</td>\n",
       "      <td>0.0</td>\n",
       "      <td>0.0</td>\n",
       "      <td>0.0</td>\n",
       "      <td>0.0</td>\n",
       "      <td>0.0</td>\n",
       "      <td>0.0</td>\n",
       "    </tr>\n",
       "    <tr>\n",
       "      <th>1</th>\n",
       "      <td>2010-01-05</td>\n",
       "      <td>33.599998</td>\n",
       "      <td>33.790001</td>\n",
       "      <td>33.349998</td>\n",
       "      <td>33.759998</td>\n",
       "      <td>33.759998</td>\n",
       "      <td>553200</td>\n",
       "      <td>0.005628</td>\n",
       "      <td>-0.808749</td>\n",
       "      <td>1</td>\n",
       "      <td>...</td>\n",
       "      <td>0.0</td>\n",
       "      <td>0.0</td>\n",
       "      <td>0.0</td>\n",
       "      <td>0.0</td>\n",
       "      <td>0.0</td>\n",
       "      <td>0.0</td>\n",
       "      <td>0.0</td>\n",
       "      <td>0.0</td>\n",
       "      <td>0.0</td>\n",
       "      <td>0.0</td>\n",
       "    </tr>\n",
       "    <tr>\n",
       "      <th>2</th>\n",
       "      <td>2010-01-06</td>\n",
       "      <td>33.720001</td>\n",
       "      <td>33.770000</td>\n",
       "      <td>32.970001</td>\n",
       "      <td>33.310001</td>\n",
       "      <td>33.310001</td>\n",
       "      <td>1066900</td>\n",
       "      <td>-0.013509</td>\n",
       "      <td>0.481488</td>\n",
       "      <td>0</td>\n",
       "      <td>...</td>\n",
       "      <td>0.0</td>\n",
       "      <td>0.0</td>\n",
       "      <td>0.0</td>\n",
       "      <td>0.0</td>\n",
       "      <td>0.0</td>\n",
       "      <td>0.0</td>\n",
       "      <td>0.0</td>\n",
       "      <td>0.0</td>\n",
       "      <td>0.0</td>\n",
       "      <td>0.0</td>\n",
       "    </tr>\n",
       "    <tr>\n",
       "      <th>3</th>\n",
       "      <td>2010-01-07</td>\n",
       "      <td>34.209999</td>\n",
       "      <td>34.650002</td>\n",
       "      <td>33.740002</td>\n",
       "      <td>34.619999</td>\n",
       "      <td>34.619999</td>\n",
       "      <td>1077300</td>\n",
       "      <td>0.037839</td>\n",
       "      <td>0.009654</td>\n",
       "      <td>1</td>\n",
       "      <td>...</td>\n",
       "      <td>0.0</td>\n",
       "      <td>0.0</td>\n",
       "      <td>0.0</td>\n",
       "      <td>0.0</td>\n",
       "      <td>0.0</td>\n",
       "      <td>0.0</td>\n",
       "      <td>0.0</td>\n",
       "      <td>0.0</td>\n",
       "      <td>0.0</td>\n",
       "      <td>0.0</td>\n",
       "    </tr>\n",
       "    <tr>\n",
       "      <th>4</th>\n",
       "      <td>2010-01-08</td>\n",
       "      <td>34.220001</td>\n",
       "      <td>35.080002</td>\n",
       "      <td>34.130001</td>\n",
       "      <td>34.389999</td>\n",
       "      <td>34.389999</td>\n",
       "      <td>982000</td>\n",
       "      <td>-0.006688</td>\n",
       "      <td>-0.097047</td>\n",
       "      <td>0</td>\n",
       "      <td>...</td>\n",
       "      <td>0.0</td>\n",
       "      <td>0.0</td>\n",
       "      <td>0.0</td>\n",
       "      <td>0.0</td>\n",
       "      <td>0.0</td>\n",
       "      <td>0.0</td>\n",
       "      <td>0.0</td>\n",
       "      <td>0.0</td>\n",
       "      <td>0.0</td>\n",
       "      <td>0.0</td>\n",
       "    </tr>\n",
       "  </tbody>\n",
       "</table>\n",
       "<p>5 rows × 49 columns</p>\n",
       "</div>"
      ],
      "text/plain": [
       "         Date       Open       High        Low      Close  Adj Close   Volume  \\\n",
       "0  2010-01-04  33.740002  33.810001  33.259998  33.570000  33.570000  1000600   \n",
       "1  2010-01-05  33.599998  33.790001  33.349998  33.759998  33.759998   553200   \n",
       "2  2010-01-06  33.720001  33.770000  32.970001  33.310001  33.310001  1066900   \n",
       "3  2010-01-07  34.209999  34.650002  33.740002  34.619999  34.619999  1077300   \n",
       "4  2010-01-08  34.220001  35.080002  34.130001  34.389999  34.389999   982000   \n",
       "\n",
       "   close_diff  Vol_diff  crl_future_1    ...      nbi_pre_6 pre_7  vol_pre_7  \\\n",
       "0    0.000000  0.000000             0    ...            0.0   0.0        0.0   \n",
       "1    0.005628 -0.808749             1    ...            0.0   0.0        0.0   \n",
       "2   -0.013509  0.481488             0    ...            0.0   0.0        0.0   \n",
       "3    0.037839  0.009654             1    ...            0.0   0.0        0.0   \n",
       "4   -0.006688 -0.097047             0    ...            0.0   0.0        0.0   \n",
       "\n",
       "   nbi_pre_7  pre_8  vol_pre_8  nbi_pre_8  pre_9  vol_pre_9  nbi_pre_9  \n",
       "0        0.0    0.0        0.0        0.0    0.0        0.0        0.0  \n",
       "1        0.0    0.0        0.0        0.0    0.0        0.0        0.0  \n",
       "2        0.0    0.0        0.0        0.0    0.0        0.0        0.0  \n",
       "3        0.0    0.0        0.0        0.0    0.0        0.0        0.0  \n",
       "4        0.0    0.0        0.0        0.0    0.0        0.0        0.0  \n",
       "\n",
       "[5 rows x 49 columns]"
      ]
     },
     "execution_count": 5,
     "metadata": {},
     "output_type": "execute_result"
    }
   ],
   "source": [
    "df = pd.concat([crl,nbi],axis=1)\n",
    "\n",
    "pred_name = []\n",
    "num_days_back = 10\n",
    "\n",
    "for i in range(0,num_days_back):\n",
    "    df['pre_' +str(i)] =((df['Close'].shift(i)-df['Close'].shift(i+1))/df['Close'].shift(i)).fillna(0)\n",
    "    df['vol_pre_' +str(i)] = ((df['Volume'].shift(i)-df['Volume'].shift(i+1))/df['Volume'].shift(i)).fillna(0)\n",
    "    df['nbi_pre_' +str(i)] =((df['nbi_close'].shift(i)-df['nbi_close'].shift(i+1))/df['nbi_close'].shift(i)).fillna(0)\n",
    "    pred_name.append('pre_' +str(i))\n",
    "    pred_name.append('vol_pre_' +str(i))\n",
    "    pred_name.append('nbi_pre_' +str(i))\n",
    "\n",
    "df.head()"
   ]
  },
  {
   "cell_type": "markdown",
   "metadata": {},
   "source": [
    "Sorting the dataframe in ascending order"
   ]
  },
  {
   "cell_type": "code",
   "execution_count": 6,
   "metadata": {
    "collapsed": true
   },
   "outputs": [],
   "source": [
    "df.sort_index(ascending = True,inplace = True)"
   ]
  },
  {
   "cell_type": "markdown",
   "metadata": {},
   "source": [
    "#### 2.2) Plotting\n",
    "Here we can plot and explore the dataset features."
   ]
  },
  {
   "cell_type": "code",
   "execution_count": 7,
   "metadata": {},
   "outputs": [
    {
     "data": {
      "image/png": "[encoded data removed]",
      "text/plain": [
       "<matplotlib.figure.Figure at 0x1bbcf203cc0>"
      ]
     },
     "metadata": {},
     "output_type": "display_data"
    },
    {
     "data": {
      "image/png": "[encoded data removed]",
      "text/plain": [
       "<matplotlib.figure.Figure at 0x1bbcf320320>"
      ]
     },
     "metadata": {},
     "output_type": "display_data"
    }
   ],
   "source": [
    "#plottting the arrays\n",
    "plt.plot(crl['Close'],'-r',label = 'CRL Closing Price')\n",
    "plt.title(\"CRL NYSE closing stock price from 01-04-2010 to 07-11-2010\")\n",
    "plt.xlabel(\"Time in Days\")\n",
    "plt.ylabel(\"Closing Price of stock index in USD\")\n",
    "plt.legend(loc='upper left')\n",
    "plt.show()\n",
    "plt.plot(nbi['nbi_close'],'-b',label = 'NBI Closing Price')\n",
    "plt.title(\"NBI NASDAQ closing stock price from 01-04-2010 to 07-11-2010\")\n",
    "plt.xlabel(\"Time in Days\")\n",
    "plt.ylabel(\"Closing Price of stock index in USD\")\n",
    "plt.legend(loc='upper left')\n",
    "plt.show()"
   ]
  },
  {
   "cell_type": "code",
   "execution_count": 8,
   "metadata": {},
   "outputs": [
    {
     "data": {
      "text/plain": [
       "['pre_0',\n",
       " 'vol_pre_0',\n",
       " 'nbi_pre_0',\n",
       " 'pre_1',\n",
       " 'vol_pre_1',\n",
       " 'nbi_pre_1',\n",
       " 'pre_2',\n",
       " 'vol_pre_2',\n",
       " 'nbi_pre_2',\n",
       " 'pre_3',\n",
       " 'vol_pre_3',\n",
       " 'nbi_pre_3',\n",
       " 'pre_4',\n",
       " 'vol_pre_4',\n",
       " 'nbi_pre_4',\n",
       " 'pre_5',\n",
       " 'vol_pre_5',\n",
       " 'nbi_pre_5',\n",
       " 'pre_6',\n",
       " 'vol_pre_6',\n",
       " 'nbi_pre_6',\n",
       " 'pre_7',\n",
       " 'vol_pre_7',\n",
       " 'nbi_pre_7',\n",
       " 'pre_8',\n",
       " 'vol_pre_8',\n",
       " 'nbi_pre_8',\n",
       " 'pre_9',\n",
       " 'vol_pre_9',\n",
       " 'nbi_pre_9']"
      ]
     },
     "execution_count": 8,
     "metadata": {},
     "output_type": "execute_result"
    }
   ],
   "source": [
    "#Checking Pearsons Correlation\n",
    "#Presence of High Autocorrelation between crl and crl_future(0.998)\n",
    "np.corrcoef(df.close_diff,df.nbi_close_diff)\n",
    "pred_name"
   ]
  },
  {
   "cell_type": "markdown",
   "metadata": {},
   "source": [
    "Presence of __high correlation__ between __CRL__ &  __NBI__ (amongst features) can pose a challenge. This lead to a higher challenge on selecting the right features for a Neural Network. "
   ]
  },
  {
   "cell_type": "markdown",
   "metadata": {},
   "source": [
    "### Step 3: Choosing an archcitecure for LSTM. \n",
    "\n",
    "We are using a many to one architecture for determing the future closing price CRL NYSE stock.\n",
    "\n",
    "[machinelearningmastery.com/models-sequence-prediction-recurrent-neural-networks/](http://machinelearningmastery.com/models-sequence-prediction-recurrent-neural-networks/)"
   ]
  },
  {
   "cell_type": "markdown",
   "metadata": {},
   "source": [
    "### Step 4: Splitting into Test and Train Data"
   ]
  },
  {
   "cell_type": "code",
   "execution_count": 9,
   "metadata": {},
   "outputs": [
    {
     "data": {
      "text/plain": [
       "(1846, 36, array([[ -7.60040712e-03,   3.17735642e-01,  -5.90824406e-04,\n",
       "           2.02047415e-02,   2.04769418e-01,   1.78839080e-02,\n",
       "           8.24828167e-04,  -6.08426273e-01,   5.53799514e-03,\n",
       "          -3.85250407e-03,  -4.64560866e-01,   2.89486698e-03,\n",
       "          -2.43969020e-02,   1.24881640e-01,  -1.04004927e-02,\n",
       "           1.47176618e-02,   3.06924731e-01,   1.44823696e-02,\n",
       "           6.78978814e-03,   1.63052902e-02,  -5.38582215e-04,\n",
       "           3.00795725e-03,   1.42831951e-02,  -6.40159193e-03,\n",
       "          -1.94733683e-02,  -2.80143112e-01,  -5.09332493e-03,\n",
       "          -4.03556647e-03,  -1.67411968e-01,  -1.57578643e-02],\n",
       "        [ -3.92101258e-02,  -7.89206475e-02,  -3.66775244e-02,\n",
       "          -7.60040712e-03,   3.17735642e-01,  -5.90824406e-04,\n",
       "           2.02047415e-02,   2.04769418e-01,   1.78839080e-02,\n",
       "           8.24828167e-04,  -6.08426273e-01,   5.53799514e-03,\n",
       "          -3.85250407e-03,  -4.64560866e-01,   2.89486698e-03,\n",
       "          -2.43969020e-02,   1.24881640e-01,  -1.04004927e-02,\n",
       "           1.47176618e-02,   3.06924731e-01,   1.44823696e-02,\n",
       "           6.78978814e-03,   1.63052902e-02,  -5.38582215e-04,\n",
       "           3.00795725e-03,   1.42831951e-02,  -6.40159193e-03,\n",
       "          -1.94733683e-02,  -2.80143112e-01,  -5.09332493e-03],\n",
       "        [  5.61012607e-03,   1.66102111e-01,  -3.70025053e-03,\n",
       "          -3.92101258e-02,  -7.89206475e-02,  -3.66775244e-02,\n",
       "          -7.60040712e-03,   3.17735642e-01,  -5.90824406e-04,\n",
       "           2.02047415e-02,   2.04769418e-01,   1.78839080e-02,\n",
       "           8.24828167e-04,  -6.08426273e-01,   5.53799514e-03,\n",
       "          -3.85250407e-03,  -4.64560866e-01,   2.89486698e-03,\n",
       "          -2.43969020e-02,   1.24881640e-01,  -1.04004927e-02,\n",
       "           1.47176618e-02,   3.06924731e-01,   1.44823696e-02,\n",
       "           6.78978814e-03,   1.63052902e-02,  -5.38582215e-04,\n",
       "           3.00795725e-03,   1.42831951e-02,  -6.40159193e-03]], dtype=float32), array([ 1.,  0.,  0.], dtype=float32))"
      ]
     },
     "execution_count": 9,
     "metadata": {},
     "output_type": "execute_result"
    }
   ],
   "source": [
    "#taking 98% of the data points as train. This number can change.\n",
    "train_size = int(0.98*len(df))\n",
    "\n",
    "#segregating the inputs and ouput on the test and train data\n",
    "trainX = np.asarray(df.loc[10:train_size,pred_name],dtype='float32')\n",
    "#trainY = np.asarray(df.loc[10:train_size,['crl_future_1',\"opp_crl_future_1\"]],dtype = \"float32\")\n",
    "trainY = np.asarray(df.loc[10:train_size,'crl_future_1'],dtype = \"float32\")\n",
    "testX = np.array(df.loc[1856:1891,pred_name])\n",
    "testY = np.asarray(df.loc[1856:1891,'crl_future_1'],dtype = \"float32\")\n",
    "#testY = np.asarray(df.loc[1856:1891,['crl_future_1',\"opp_crl_future_1\"]],dtype = \"float32\")\n",
    "len(trainX),len(testX),trainX[11:14],trainY[11:14]"
   ]
  },
  {
   "cell_type": "code",
   "execution_count": 10,
   "metadata": {
    "collapsed": true
   },
   "outputs": [],
   "source": [
    "#The inputs needed to be reshaped in the format of  a 3d tensor  with dimesnions = [batchsize,timesteps,features]\n",
    "trainX = np.reshape(trainX,(1846,10,3))\n",
    "testX=  np.reshape(testX,(36,10,3))"
   ]
  },
  {
   "cell_type": "markdown",
   "metadata": {},
   "source": [
    "### Step 5: Designing the Architeure of the Network\n",
    "\n",
    "Here we design the LSTM Layer architecture using keras and tensorflow as backend.\n",
    "\n",
    "The model is __Sequential__ i.e. more than one layer is used in the architectcure.\n",
    "The first layer has 50 LSTM units, The second one has 20. The input dimensions have to be specified for the first layer. Return_sequences is set to true determines whether to return the last output in the output sequence, or the full sequence.  Then we have added a linear dense activation for the final output.Also note that we have added dropout of 20% after the first layer to prevent overfitting on the train data.\n",
    "\n",
    "The choice of optimizer is Adam i.e. __Adaptive Moment Estimation__.\n",
    "[ruder.io/optimizing-gradient-descen]([http://ruder.io/optimizing-gradient-descent/).\n",
    "\n",
    "We have selected __Binary Cross Entropy__ as the loss function. We have taken a 15% validation split on train data to determine to optimize the hyperparamters in order to determine the best model\n",
    "\n",
    "\n",
    "The hyperparamters and lstm unit layer configurations  are chosen after trying different combinations in the architecture. for more details refere : [keras.io](https://keras.io/)\n",
    "\n",
    "Note: There is internal shuffling between batches in keras which can be turned off if needed after training each batch.\n"
   ]
  },
  {
   "cell_type": "code",
   "execution_count": 11,
   "metadata": {},
   "outputs": [
    {
     "name": "stdout",
     "output_type": "stream",
     "text": [
      "Train on 1569 samples, validate on 277 samples\n",
      "Epoch 1/100\n",
      "32s - loss: 0.7245 - acc: 0.4920 - val_loss: 0.6921 - val_acc: 0.5379\n",
      "Epoch 2/100\n",
      "28s - loss: 0.7120 - acc: 0.4959 - val_loss: 0.6958 - val_acc: 0.4621\n",
      "Epoch 3/100\n",
      "30s - loss: 0.7115 - acc: 0.5335 - val_loss: 0.7007 - val_acc: 0.4621\n",
      "Epoch 4/100\n",
      "27s - loss: 0.7083 - acc: 0.5341 - val_loss: 0.6969 - val_acc: 0.5379\n",
      "Epoch 5/100\n",
      "25s - loss: 0.7134 - acc: 0.5080 - val_loss: 0.7142 - val_acc: 0.4621\n",
      "Epoch 6/100\n",
      "27s - loss: 0.7129 - acc: 0.4978 - val_loss: 0.7054 - val_acc: 0.5379\n",
      "Epoch 7/100\n",
      "29s - loss: 0.7088 - acc: 0.5252 - val_loss: 0.7738 - val_acc: 0.4621\n",
      "Epoch 8/100\n",
      "29s - loss: 0.7101 - acc: 0.5131 - val_loss: 0.7661 - val_acc: 0.5379\n",
      "Epoch 9/100\n",
      "28s - loss: 0.7150 - acc: 0.4971 - val_loss: 0.6916 - val_acc: 0.5379\n",
      "Epoch 10/100\n",
      "29s - loss: 0.7162 - acc: 0.5080 - val_loss: 0.7653 - val_acc: 0.4621\n",
      "Epoch 11/100\n",
      "30s - loss: 0.7161 - acc: 0.5067 - val_loss: 0.6914 - val_acc: 0.5379\n",
      "Epoch 12/100\n",
      "31s - loss: 0.7147 - acc: 0.5080 - val_loss: 0.6904 - val_acc: 0.5379\n",
      "Epoch 13/100\n",
      "30s - loss: 0.7111 - acc: 0.5029 - val_loss: 0.7285 - val_acc: 0.5379\n",
      "Epoch 14/100\n",
      "30s - loss: 0.7099 - acc: 0.5233 - val_loss: 0.6999 - val_acc: 0.5379\n",
      "Epoch 15/100\n",
      "30s - loss: 0.7126 - acc: 0.5003 - val_loss: 0.7282 - val_acc: 0.5379\n",
      "Epoch 16/100\n",
      "28s - loss: 0.7112 - acc: 0.5080 - val_loss: 0.6904 - val_acc: 0.5379\n",
      "Epoch 17/100\n",
      "27s - loss: 0.7080 - acc: 0.5194 - val_loss: 0.7055 - val_acc: 0.5379\n",
      "Epoch 18/100\n",
      "27s - loss: 0.7119 - acc: 0.5086 - val_loss: 0.6957 - val_acc: 0.5379\n",
      "Epoch 19/100\n",
      "27s - loss: 0.7020 - acc: 0.5175 - val_loss: 0.7019 - val_acc: 0.4621\n",
      "Epoch 20/100\n",
      "28s - loss: 0.7129 - acc: 0.5131 - val_loss: 0.6909 - val_acc: 0.5379\n",
      "Epoch 21/100\n",
      "27s - loss: 0.7055 - acc: 0.5366 - val_loss: 0.6906 - val_acc: 0.5379\n",
      "Epoch 22/100\n",
      "27s - loss: 0.7125 - acc: 0.5131 - val_loss: 0.7162 - val_acc: 0.5379\n",
      "Epoch 23/100\n",
      "25s - loss: 0.7034 - acc: 0.5315 - val_loss: 0.6903 - val_acc: 0.5379\n",
      "Epoch 24/100\n",
      "26s - loss: 0.7140 - acc: 0.5220 - val_loss: 0.6913 - val_acc: 0.5379\n",
      "Epoch 25/100\n",
      "25s - loss: 0.7071 - acc: 0.5169 - val_loss: 0.7046 - val_acc: 0.4621\n",
      "Epoch 26/100\n",
      "25s - loss: 0.7090 - acc: 0.5214 - val_loss: 0.6907 - val_acc: 0.5379\n",
      "Epoch 27/100\n",
      "25s - loss: 0.7094 - acc: 0.5156 - val_loss: 0.7233 - val_acc: 0.5379\n",
      "Epoch 28/100\n",
      "25s - loss: 0.7135 - acc: 0.5016 - val_loss: 0.6915 - val_acc: 0.5379\n",
      "Epoch 29/100\n",
      "26s - loss: 0.7074 - acc: 0.5048 - val_loss: 0.7644 - val_acc: 0.5379\n",
      "Epoch 30/100\n",
      "27s - loss: 0.7115 - acc: 0.4914 - val_loss: 0.7157 - val_acc: 0.5379\n",
      "Epoch 31/100\n",
      "27s - loss: 0.7071 - acc: 0.5105 - val_loss: 0.6909 - val_acc: 0.5379\n",
      "Epoch 32/100\n",
      "26s - loss: 0.7043 - acc: 0.5214 - val_loss: 0.7233 - val_acc: 0.4621\n",
      "Epoch 33/100\n",
      "25s - loss: 0.7123 - acc: 0.4978 - val_loss: 0.6922 - val_acc: 0.5379\n",
      "Epoch 34/100\n",
      "26s - loss: 0.7132 - acc: 0.5073 - val_loss: 0.6984 - val_acc: 0.4621\n",
      "Epoch 35/100\n",
      "25s - loss: 0.7070 - acc: 0.5207 - val_loss: 0.8029 - val_acc: 0.4621\n",
      "Epoch 36/100\n",
      "26s - loss: 0.7173 - acc: 0.5041 - val_loss: 0.7616 - val_acc: 0.4621\n",
      "Epoch 37/100\n",
      "28s - loss: 0.7143 - acc: 0.4927 - val_loss: 0.6968 - val_acc: 0.4621\n",
      "Epoch 38/100\n",
      "28s - loss: 0.7128 - acc: 0.4990 - val_loss: 0.6949 - val_acc: 0.5379\n",
      "Epoch 39/100\n",
      "26s - loss: 0.7154 - acc: 0.4895 - val_loss: 0.7109 - val_acc: 0.4621\n",
      "Epoch 40/100\n",
      "25s - loss: 0.7081 - acc: 0.5048 - val_loss: 0.7188 - val_acc: 0.4621\n",
      "Epoch 41/100\n",
      "26s - loss: 0.7135 - acc: 0.4761 - val_loss: 0.7175 - val_acc: 0.4621\n",
      "Epoch 42/100\n",
      "25s - loss: 0.7133 - acc: 0.4774 - val_loss: 0.6988 - val_acc: 0.4621\n",
      "Epoch 43/100\n",
      "26s - loss: 0.7114 - acc: 0.4971 - val_loss: 0.6968 - val_acc: 0.5379\n",
      "Epoch 44/100\n",
      "26s - loss: 0.7101 - acc: 0.5112 - val_loss: 0.6965 - val_acc: 0.4621\n",
      "Epoch 45/100\n",
      "26s - loss: 0.7171 - acc: 0.5175 - val_loss: 0.7156 - val_acc: 0.4621\n",
      "Epoch 46/100\n",
      "28s - loss: 0.7102 - acc: 0.5029 - val_loss: 0.7042 - val_acc: 0.5379\n",
      "Epoch 47/100\n",
      "25s - loss: 0.7171 - acc: 0.5137 - val_loss: 0.6945 - val_acc: 0.4621\n",
      "Epoch 48/100\n",
      "26s - loss: 0.7111 - acc: 0.5118 - val_loss: 0.6956 - val_acc: 0.4621\n",
      "Epoch 49/100\n",
      "26s - loss: 0.7152 - acc: 0.5124 - val_loss: 0.7251 - val_acc: 0.5379\n",
      "Epoch 50/100\n",
      "25s - loss: 0.7135 - acc: 0.4984 - val_loss: 0.7634 - val_acc: 0.4621\n",
      "Epoch 51/100\n",
      "26s - loss: 0.7110 - acc: 0.4818 - val_loss: 0.6939 - val_acc: 0.4621\n",
      "Epoch 52/100\n",
      "25s - loss: 0.7096 - acc: 0.5061 - val_loss: 0.6908 - val_acc: 0.5379\n",
      "Epoch 53/100\n",
      "25s - loss: 0.7082 - acc: 0.4997 - val_loss: 0.6931 - val_acc: 0.5379\n",
      "Epoch 54/100\n",
      "25s - loss: 0.7090 - acc: 0.4984 - val_loss: 0.7023 - val_acc: 0.5379\n",
      "Epoch 55/100\n",
      "25s - loss: 0.7038 - acc: 0.5303 - val_loss: 0.7569 - val_acc: 0.5379\n",
      "Epoch 56/100\n",
      "26s - loss: 0.7080 - acc: 0.5214 - val_loss: 0.6905 - val_acc: 0.5379\n",
      "Epoch 57/100\n",
      "27s - loss: 0.7122 - acc: 0.4939 - val_loss: 0.7916 - val_acc: 0.4621\n",
      "Epoch 58/100\n",
      "26s - loss: 0.7136 - acc: 0.4882 - val_loss: 0.6905 - val_acc: 0.5379\n",
      "Epoch 59/100\n",
      "27s - loss: 0.7172 - acc: 0.5016 - val_loss: 0.7386 - val_acc: 0.4621\n",
      "Epoch 60/100\n",
      "26s - loss: 0.7114 - acc: 0.5073 - val_loss: 0.7024 - val_acc: 0.4621\n",
      "Epoch 61/100\n",
      "26s - loss: 0.7134 - acc: 0.5048 - val_loss: 0.7975 - val_acc: 0.4621\n",
      "Epoch 62/100\n",
      "26s - loss: 0.7079 - acc: 0.5296 - val_loss: 0.6944 - val_acc: 0.4621\n",
      "Epoch 63/100\n",
      "26s - loss: 0.7107 - acc: 0.5010 - val_loss: 0.6907 - val_acc: 0.5379\n",
      "Epoch 64/100\n",
      "26s - loss: 0.7124 - acc: 0.5099 - val_loss: 0.6989 - val_acc: 0.4621\n",
      "Epoch 65/100\n",
      "26s - loss: 0.7043 - acc: 0.5271 - val_loss: 0.6958 - val_acc: 0.4621\n",
      "Epoch 66/100\n",
      "27s - loss: 0.7134 - acc: 0.5022 - val_loss: 0.6917 - val_acc: 0.5379\n",
      "Epoch 67/100\n",
      "26s - loss: 0.7130 - acc: 0.5029 - val_loss: 0.7029 - val_acc: 0.5379\n",
      "Epoch 68/100\n",
      "26s - loss: 0.7127 - acc: 0.5150 - val_loss: 0.7176 - val_acc: 0.5379\n",
      "Epoch 69/100\n",
      "25s - loss: 0.7136 - acc: 0.4901 - val_loss: 0.7471 - val_acc: 0.4621\n",
      "Epoch 70/100\n",
      "27s - loss: 0.7123 - acc: 0.5022 - val_loss: 0.6945 - val_acc: 0.5379\n",
      "Epoch 71/100\n",
      "26s - loss: 0.7073 - acc: 0.5163 - val_loss: 0.6951 - val_acc: 0.5379\n",
      "Epoch 72/100\n",
      "25s - loss: 0.7125 - acc: 0.5003 - val_loss: 0.7020 - val_acc: 0.4621\n",
      "Epoch 73/100\n",
      "26s - loss: 0.6998 - acc: 0.5341 - val_loss: 0.7045 - val_acc: 0.4621\n",
      "Epoch 74/100\n",
      "25s - loss: 0.7061 - acc: 0.5373 - val_loss: 0.7078 - val_acc: 0.5379\n",
      "Epoch 75/100\n",
      "27s - loss: 0.7045 - acc: 0.5303 - val_loss: 0.7026 - val_acc: 0.4621\n",
      "Epoch 76/100\n",
      "26s - loss: 0.7111 - acc: 0.5156 - val_loss: 0.7163 - val_acc: 0.5379\n",
      "Epoch 77/100\n",
      "26s - loss: 0.7108 - acc: 0.5016 - val_loss: 0.7156 - val_acc: 0.4621\n",
      "Epoch 78/100\n",
      "26s - loss: 0.7072 - acc: 0.5233 - val_loss: 0.7193 - val_acc: 0.5379\n",
      "Epoch 79/100\n",
      "27s - loss: 0.7094 - acc: 0.5112 - val_loss: 0.7141 - val_acc: 0.5379\n",
      "Epoch 80/100\n",
      "26s - loss: 0.7077 - acc: 0.5226 - val_loss: 0.7019 - val_acc: 0.5379\n",
      "Epoch 81/100\n",
      "26s - loss: 0.7076 - acc: 0.5010 - val_loss: 0.6919 - val_acc: 0.5379\n",
      "Epoch 82/100\n",
      "26s - loss: 0.7151 - acc: 0.5010 - val_loss: 0.7032 - val_acc: 0.5379\n",
      "Epoch 83/100\n",
      "26s - loss: 0.7123 - acc: 0.5086 - val_loss: 0.6951 - val_acc: 0.5379\n",
      "Epoch 84/100\n",
      "26s - loss: 0.7128 - acc: 0.5156 - val_loss: 0.7166 - val_acc: 0.4621\n",
      "Epoch 85/100\n",
      "26s - loss: 0.7128 - acc: 0.5035 - val_loss: 0.6918 - val_acc: 0.5379\n",
      "Epoch 86/100\n",
      "27s - loss: 0.7111 - acc: 0.5073 - val_loss: 0.7623 - val_acc: 0.4621\n",
      "Epoch 87/100\n",
      "25s - loss: 0.7134 - acc: 0.5003 - val_loss: 0.6912 - val_acc: 0.5379\n",
      "Epoch 88/100\n",
      "26s - loss: 0.7121 - acc: 0.4825 - val_loss: 0.6905 - val_acc: 0.5379\n",
      "Epoch 89/100\n",
      "25s - loss: 0.7079 - acc: 0.5296 - val_loss: 0.7058 - val_acc: 0.4621\n",
      "Epoch 90/100\n",
      "25s - loss: 0.7119 - acc: 0.5169 - val_loss: 0.6906 - val_acc: 0.5379\n",
      "Epoch 91/100\n",
      "26s - loss: 0.7116 - acc: 0.5010 - val_loss: 0.7008 - val_acc: 0.4621\n",
      "Epoch 92/100\n",
      "25s - loss: 0.7124 - acc: 0.5143 - val_loss: 0.6912 - val_acc: 0.5379\n",
      "Epoch 93/100\n",
      "25s - loss: 0.7118 - acc: 0.5124 - val_loss: 0.6908 - val_acc: 0.5379\n",
      "Epoch 94/100\n",
      "25s - loss: 0.7107 - acc: 0.5003 - val_loss: 0.6903 - val_acc: 0.5379\n",
      "Epoch 95/100\n",
      "26s - loss: 0.7157 - acc: 0.4933 - val_loss: 0.6943 - val_acc: 0.4621\n",
      "Epoch 96/100\n",
      "25s - loss: 0.7136 - acc: 0.4984 - val_loss: 0.7186 - val_acc: 0.5379\n",
      "Epoch 97/100\n",
      "24s - loss: 0.7199 - acc: 0.4888 - val_loss: 0.6903 - val_acc: 0.5379\n",
      "Epoch 98/100\n",
      "25s - loss: 0.7102 - acc: 0.5226 - val_loss: 0.6983 - val_acc: 0.4621\n",
      "Epoch 99/100\n",
      "24s - loss: 0.7127 - acc: 0.4984 - val_loss: 0.7409 - val_acc: 0.5379\n",
      "Epoch 100/100\n"
     ]
    },
    {
     "name": "stdout",
     "output_type": "stream",
     "text": [
      "25s - loss: 0.7168 - acc: 0.4939 - val_loss: 0.6924 - val_acc: 0.5379\n",
      "Compilation Time :  2692.528548717499\n"
     ]
    }
   ],
   "source": [
    "model = Sequential()\n",
    "model.add(LSTM(50 ,batch_input_shape=(1,trainX.shape[1],trainX.shape[2]),return_sequences = True))\n",
    "model.add(Dropout(0.10))\n",
    "model.add(LSTM(50,return_sequences = True))\n",
    "model.add(LSTM(20))\n",
    "model.add(Dense(1,activation ='sigmoid'))\n",
    "adam = optimizers.Adam(lr=0.01, beta_1=0.9, beta_2=0.999, epsilon=1e-08, decay=0.0)\n",
    "model.compile(loss='binary_crossentropy', optimizer = adam, metrics=['accuracy'])\n",
    "\n",
    "epochs = 100\n",
    "start = time.time()\n",
    "m = model.fit(trainX, trainY, epochs = epochs, batch_size=1, verbose=2,validation_split=0.15)\n",
    "print (\"Compilation Time : \", time.time() - start)"
   ]
  },
  {
   "cell_type": "markdown",
   "metadata": {},
   "source": [
    "_Future works: add hot vector encoding by also taking the opposite of crl future as Y : Response and change the loss to categorical feature and optimise for loss _"
   ]
  },
  {
   "cell_type": "code",
   "execution_count": 12,
   "metadata": {},
   "outputs": [
    {
     "data": {
      "image/png": "[encoded data removed]",
      "text/plain": [
       "<matplotlib.figure.Figure at 0x1bbcf203828>"
      ]
     },
     "metadata": {},
     "output_type": "display_data"
    }
   ],
   "source": [
    "# summarize model for loss\n",
    "plt.plot(m.history['loss'])\n",
    "plt.plot(m.history['val_loss'])\n",
    "plt.title('model loss')\n",
    "plt.ylabel('Binary Cross Entropy')\n",
    "plt.xlabel('epoch')\n",
    "plt.legend(['Train', 'Valid'], loc='upper left')\n",
    "plt.show()"
   ]
  },
  {
   "cell_type": "code",
   "execution_count": 13,
   "metadata": {},
   "outputs": [
    {
     "data": {
      "image/png": "[encoded data removed]",
      "text/plain": [
       "<matplotlib.figure.Figure at 0x1bbcf3c67b8>"
      ]
     },
     "metadata": {},
     "output_type": "display_data"
    }
   ],
   "source": [
    "# summarize model for accuracy\n",
    "plt.plot(m.history['acc'])\n",
    "plt.plot(m.history['val_acc'])\n",
    "plt.title('model accuracy')\n",
    "plt.ylabel('Accuracy')\n",
    "plt.xlabel('epoch')\n",
    "plt.legend(['Train', 'Valid'], loc='upper left')\n",
    "plt.show()"
   ]
  },
  {
   "cell_type": "markdown",
   "metadata": {},
   "source": [
    "Find a suitable number for epoch considering the loss and accuracy on train and validation data set. \n",
    "\n",
    "*We might have to go back and reduce the number of epochs while training to prevent overfititng on train."
   ]
  },
  {
   "cell_type": "markdown",
   "metadata": {},
   "source": [
    "### Step 6: Prediction on Test  Data Points"
   ]
  },
  {
   "cell_type": "code",
   "execution_count": 14,
   "metadata": {},
   "outputs": [
    {
     "data": {
      "image/png": "[encoded data removed]",
      "text/plain": [
       "<matplotlib.figure.Figure at 0x1bbd25add30>"
      ]
     },
     "metadata": {},
     "output_type": "display_data"
    }
   ],
   "source": [
    "#plotting the values\n",
    "testPredict = model.predict(testX,batch_size = 1)\n",
    "plt.plot(testPredict,'-b',label = 'Predicted CRL  Closing Price')\n",
    "plt.plot(testY,'-g',label = 'Actual CRL Closing Price')\n",
    "plt.title(\"CRL NYSE Actual & Predicted Closing Price from 18-05-2017 to 07-10-2010\")\n",
    "plt.xlabel(\"Time in Days\")\n",
    "plt.ylabel(\"Closing Price of stock index in USD\")\n",
    "plt.legend(loc='upper left')\n",
    "plt.show()   "
   ]
  },
  {
   "cell_type": "code",
   "execution_count": 15,
   "metadata": {},
   "outputs": [
    {
     "data": {
      "text/plain": [
       "array([[ 0.42989931],\n",
       "       [ 0.42989931],\n",
       "       [ 0.42989931],\n",
       "       [ 0.42989931],\n",
       "       [ 0.42989931],\n",
       "       [ 0.42989931],\n",
       "       [ 0.42989931],\n",
       "       [ 0.42989931],\n",
       "       [ 0.42989931],\n",
       "       [ 0.42989931],\n",
       "       [ 0.42989931],\n",
       "       [ 0.42989931],\n",
       "       [ 0.42989931],\n",
       "       [ 0.42989931],\n",
       "       [ 0.42989931],\n",
       "       [ 0.42989931],\n",
       "       [ 0.42989931],\n",
       "       [ 0.42989931],\n",
       "       [ 0.42989931],\n",
       "       [ 0.42989931],\n",
       "       [ 0.42989931],\n",
       "       [ 0.42989931],\n",
       "       [ 0.42989931],\n",
       "       [ 0.42989931],\n",
       "       [ 0.42989931],\n",
       "       [ 0.42989931],\n",
       "       [ 0.42989931],\n",
       "       [ 0.42989931],\n",
       "       [ 0.42989931],\n",
       "       [ 0.42989931],\n",
       "       [ 0.42989931],\n",
       "       [ 0.42989931],\n",
       "       [ 0.42989931],\n",
       "       [ 0.42989931],\n",
       "       [ 0.42989931],\n",
       "       [ 0.42989931]], dtype=float32)"
      ]
     },
     "execution_count": 15,
     "metadata": {},
     "output_type": "execute_result"
    }
   ],
   "source": [
    "#transforming back the original predictions\n",
    "testPredict"
   ]
  },
  {
   "cell_type": "markdown",
   "metadata": {},
   "source": [
    "We can try out different architectures and configurations to optimize the task further!"
   ]
  },
  {
   "cell_type": "markdown",
   "metadata": {},
   "source": [
    "### Reference Links\n",
    "- [Machinelearningmastery blogs by Dr Jason Brownlee](http://machinelearningmastery.com/blog/)\n",
    "- [Forecasting with Neural Networks](https://www.youtube.com/watch?v=lGaXq_Kgr2Y)\n",
    "- [Long Short-Term Memory by Hochreiter & Schimdhuber](http://www.bioinf.jku.at/publications/older/2604.pdf)"
   ]
  }
 ],
 "metadata": {
  "kernelspec": {
   "display_name": "Python 3",
   "language": "python",
   "name": "python3"
  },
  "language_info": {
   "codemirror_mode": {
    "name": "ipython",
    "version": 3
   },
   "file_extension": ".py",
   "mimetype": "text/x-python",
   "name": "python",
   "nbconvert_exporter": "python",
   "pygments_lexer": "ipython3",
   "version": "3.5.3"
  }
 },
 "nbformat": 4,
 "nbformat_minor": 2
}
