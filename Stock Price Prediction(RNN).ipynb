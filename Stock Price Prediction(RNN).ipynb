{
 "cells": [
  {
   "cell_type": "code",
   "execution_count": 27,
   "metadata": {},
   "outputs": [],
   "source": [
    "#importing the relevant libraries\n",
    "import numpy as np\n",
    "import pandas as pd\n",
    "from matplotlib import pyplot as plt\n",
    "from keras.models import Sequential\n",
    "from keras.layers import Dense,Activation,Dropout\n",
    "from keras.layers import LSTM\n",
    "from sklearn.preprocessing import MinMaxScaler\n",
    "from sklearn.metrics import mean_squared_error\n",
    "from keras import optimizers\n",
    "import time\n",
    "from pandas import DataFrame\n",
    "from keras.utils import plot_model\n",
    "from IPython.display import Image\n",
    "from IPython.core.display import HTML "
   ]
  },
  {
   "cell_type": "markdown",
   "metadata": {
    "collapsed": true
   },
   "source": [
    "# Recurrent Neural Networks"
   ]
  },
  {
   "cell_type": "markdown",
   "metadata": {},
   "source": [
    "## Introduction\n",
    "\n",
    "Recurrent Neural Networks are a type of neural networks with a feedback mechanism i.e. the ouput of a layer is added to the next input and fed back to same layer.\n",
    "They solve the issue of maintaining sequential information in a neural netorks.\n",
    "They are widely used in the prediction for stock price, sales, weather,etc.\n",
    "\n",
    "\n",
    "[http://colah.github.io/posts/2015-08-Understanding-LSTMs/](http://colah.github.io/posts/2015-08-Understanding-LSTMs/)\n",
    "\n",
    " "
   ]
  },
  {
   "cell_type": "code",
   "execution_count": 28,
   "metadata": {},
   "outputs": [
    {
     "data": {
      "text/html": [
       "<img src=\"http://colah.github.io/posts/2015-08-Understanding-LSTMs/img/RNN-unrolled.png\"/>"
      ],
      "text/plain": [
       "<IPython.core.display.Image object>"
      ]
     },
     "execution_count": 28,
     "metadata": {},
     "output_type": "execute_result"
    }
   ],
   "source": [
    "Image(url = \"http://colah.github.io/posts/2015-08-Understanding-LSTMs/img/RNN-unrolled.png\")"
   ]
  },
  {
   "cell_type": "markdown",
   "metadata": {},
   "source": [
    "### Type of Rnn Architecture \n",
    "__Methodolgy__\n",
    "- Fully Recurrent Network\n",
    "- Recursive Neural Networks\n",
    "- Hopfield Networks\n",
    "- Elman Networks and Jordan Networks\n",
    "- Echo State Networks\n",
    "- Neural history compressor\n",
    "- **The Long Short-Term Memory Model (LSTM)**\n",
    "\n",
    "__Input-Output Setting__\n",
    "<img src=http://karpathy.github.io/assets/rnn/diags.jpeg width =\"720\"/>\n",
    "[karpathy.github.io/2015/05/21/rnn-effectiveness](http://karpathy.github.io/2015/05/21/rnn-effectiveness/)"
   ]
  },
  {
   "cell_type": "markdown",
   "metadata": {},
   "source": [
    "\n",
    "However, they are faced with a lot of challenges. They are quite sensitive to changes in their paramters. Vanishing and Exploding gradients is major problem in these types of networks.\n",
    "\n",
    "Hochreiter and Schmidhuber published a paper in 1997 to solve this problem by introducing __LSTM Long Short Term__ units."
   ]
  },
  {
   "cell_type": "markdown",
   "metadata": {},
   "source": [
    "### LSTM Architecture\n",
    "Each LSTM has three gates which help to maintain the data \n",
    "- The \"Input\" or \"Write\" Gate handles the writing of the data\n",
    "\n",
    "- The \"output\" or \"Read\" Gate sends the data back to the recurrent Network\n",
    "\n",
    "- The \"Forget\" Gates is responsible for maintaing and storing data in each cell\n",
    "\n",
    "[colah.github.io/posts/2015-08-Understanding-LSTMs](colah.github.io/posts/2015-08-Understanding-LSTMs)"
   ]
  },
  {
   "cell_type": "code",
   "execution_count": 29,
   "metadata": {},
   "outputs": [
    {
     "data": {
      "text/html": [
       "<img src=\"http://colah.github.io/posts/2015-08-Understanding-LSTMs/img/LSTM3-var-GRU.png\"/>"
      ],
      "text/plain": [
       "<IPython.core.display.Image object>"
      ]
     },
     "execution_count": 29,
     "metadata": {},
     "output_type": "execute_result"
    }
   ],
   "source": [
    "Image(url = 'http://colah.github.io/posts/2015-08-Understanding-LSTMs/img/LSTM3-var-GRU.png')"
   ]
  },
  {
   "cell_type": "markdown",
   "metadata": {},
   "source": [
    "## Business Case at CRL\n",
    "### Stock Price Prediction of CRL listed at NYSE\n",
    "\n",
    "- Efficient market Hypothesis \n",
    "[en.wikipedia.org/wiki/Efficient-market_hypothesis](https://en.wikipedia.org/wiki/Efficient-market_hypothesis)\n",
    "\n",
    "- Fundamental and Technical analyts argue that the we can make eductaed guessed about the stock market better than random chance. \n"
   ]
  },
  {
   "cell_type": "markdown",
   "metadata": {},
   "source": [
    "Stock Prices are affected by a phenomenon known as __autocorrelation__. A variety of other features and indexes do affect the stock prices.\n",
    "In this study we are going to use percentage change in closing price values of NBI NASDAQ Biotechnology Index and CRL NYSE(Charles River Laboratories) Stock Index for predicting the future closing price of CRL NYSE stock price.\n",
    "The __NASDAQ Biotechnology Index__ is a stock market index made up of securities of NASDAQ-listed companies classified according to the Industry Classification Benchmark as either Biotechnology or Pharmaceuticals."
   ]
  },
  {
   "cell_type": "markdown",
   "metadata": {},
   "source": [
    "### Step 1. Getting the Data \n",
    "__NBI__ and __CRL__ data from 01-04-2010 till 07-11-2017  has been pulled up from yahoo finances and stored locally in csv"
   ]
  },
  {
   "cell_type": "code",
   "execution_count": 13,
   "metadata": {},
   "outputs": [
    {
     "data": {
      "text/plain": [
       "(         Date       Open       High        Low      Close  Adj Close   Volume  \\\n",
       " 0  2010-01-04  33.740002  33.810001  33.259998  33.570000  33.570000  1000600   \n",
       " 1  2010-01-05  33.599998  33.790001  33.349998  33.759998  33.759998   553200   \n",
       " 2  2010-01-06  33.720001  33.770000  32.970001  33.310001  33.310001  1066900   \n",
       " 3  2010-01-07  34.209999  34.650002  33.740002  34.619999  34.619999  1077300   \n",
       " 4  2010-01-08  34.220001  35.080002  34.130001  34.389999  34.389999   982000   \n",
       " \n",
       "    close_ratio  Vol_ratio  crl_future_1  \n",
       " 0     0.000000   0.000000     33.759998  \n",
       " 1     0.005660  -0.447132     33.310001  \n",
       " 2    -0.013329   0.928597     34.619999  \n",
       " 3     0.039327   0.009748     34.389999  \n",
       " 4    -0.006644  -0.088462     34.740002  ,)"
      ]
     },
     "execution_count": 13,
     "metadata": {},
     "output_type": "execute_result"
    }
   ],
   "source": [
    "#Reading the csv  file from local\n",
    "crl = pd.read_csv(\"C:/Users/Shantam Gupta/Desktop/RNN/Data/crl.csv\", index_col=False)\n",
    "\n",
    "#Computing the price ratio as feature\n",
    "crl['close_ratio'] = (crl['Close']/crl['Close'].shift(1) -1 ).fillna(0)\n",
    "\n",
    "#Computing the Volume ratio as feature\n",
    "crl['Vol_ratio'] = (crl['Volume']/crl['Volume'].shift(1) -1 ).fillna(0)\n",
    "\n",
    "crl['crl_future_1'] = crl['Close'].shift(-1).fillna(0)\n",
    "\n",
    "crl.head(),"
   ]
  },
  {
   "cell_type": "markdown",
   "metadata": {},
   "source": [
    "Reading the __NBI__ file and renaming the columns to avoid any naming conflicts with crl file"
   ]
  },
  {
   "cell_type": "code",
   "execution_count": 14,
   "metadata": {},
   "outputs": [
    {
     "data": {
      "text/html": [
       "<div>\n",
       "<style>\n",
       "    .dataframe thead tr:only-child th {\n",
       "        text-align: right;\n",
       "    }\n",
       "\n",
       "    .dataframe thead th {\n",
       "        text-align: left;\n",
       "    }\n",
       "\n",
       "    .dataframe tbody tr th {\n",
       "        vertical-align: top;\n",
       "    }\n",
       "</style>\n",
       "<table border=\"1\" class=\"dataframe\">\n",
       "  <thead>\n",
       "    <tr style=\"text-align: right;\">\n",
       "      <th></th>\n",
       "      <th>Date</th>\n",
       "      <th>nbi_open</th>\n",
       "      <th>nbi_high</th>\n",
       "      <th>nbi_low</th>\n",
       "      <th>nbi_close</th>\n",
       "      <th>nbi_adjclose</th>\n",
       "      <th>nbi_volume</th>\n",
       "      <th>nbi_close_ratio</th>\n",
       "    </tr>\n",
       "  </thead>\n",
       "  <tbody>\n",
       "    <tr>\n",
       "      <th>0</th>\n",
       "      <td>2010-01-04</td>\n",
       "      <td>851.830017</td>\n",
       "      <td>857.440002</td>\n",
       "      <td>851.380005</td>\n",
       "      <td>857.440002</td>\n",
       "      <td>857.440002</td>\n",
       "      <td>0</td>\n",
       "      <td>0.000000</td>\n",
       "    </tr>\n",
       "    <tr>\n",
       "      <th>1</th>\n",
       "      <td>2010-01-05</td>\n",
       "      <td>856.039978</td>\n",
       "      <td>856.979980</td>\n",
       "      <td>846.400024</td>\n",
       "      <td>851.250000</td>\n",
       "      <td>851.250000</td>\n",
       "      <td>0</td>\n",
       "      <td>-0.007219</td>\n",
       "    </tr>\n",
       "    <tr>\n",
       "      <th>2</th>\n",
       "      <td>2010-01-06</td>\n",
       "      <td>852.559998</td>\n",
       "      <td>859.710022</td>\n",
       "      <td>852.539978</td>\n",
       "      <td>857.669983</td>\n",
       "      <td>857.669983</td>\n",
       "      <td>0</td>\n",
       "      <td>0.007542</td>\n",
       "    </tr>\n",
       "    <tr>\n",
       "      <th>3</th>\n",
       "      <td>2010-01-07</td>\n",
       "      <td>856.869995</td>\n",
       "      <td>859.940002</td>\n",
       "      <td>851.630005</td>\n",
       "      <td>858.479980</td>\n",
       "      <td>858.479980</td>\n",
       "      <td>0</td>\n",
       "      <td>0.000944</td>\n",
       "    </tr>\n",
       "    <tr>\n",
       "      <th>4</th>\n",
       "      <td>2010-01-08</td>\n",
       "      <td>855.049988</td>\n",
       "      <td>863.489990</td>\n",
       "      <td>853.489990</td>\n",
       "      <td>863.270020</td>\n",
       "      <td>863.270020</td>\n",
       "      <td>0</td>\n",
       "      <td>0.005580</td>\n",
       "    </tr>\n",
       "  </tbody>\n",
       "</table>\n",
       "</div>"
      ],
      "text/plain": [
       "         Date    nbi_open    nbi_high     nbi_low   nbi_close  nbi_adjclose  \\\n",
       "0  2010-01-04  851.830017  857.440002  851.380005  857.440002    857.440002   \n",
       "1  2010-01-05  856.039978  856.979980  846.400024  851.250000    851.250000   \n",
       "2  2010-01-06  852.559998  859.710022  852.539978  857.669983    857.669983   \n",
       "3  2010-01-07  856.869995  859.940002  851.630005  858.479980    858.479980   \n",
       "4  2010-01-08  855.049988  863.489990  853.489990  863.270020    863.270020   \n",
       "\n",
       "   nbi_volume  nbi_close_ratio  \n",
       "0           0         0.000000  \n",
       "1           0        -0.007219  \n",
       "2           0         0.007542  \n",
       "3           0         0.000944  \n",
       "4           0         0.005580  "
      ]
     },
     "execution_count": 14,
     "metadata": {},
     "output_type": "execute_result"
    }
   ],
   "source": [
    "#Reading the csv file from local\n",
    "nbi = pd.read_csv(\"C:/Users/Shantam Gupta/Desktop/RNN/Data/nbi.csv\", index_col=False)\n",
    "\n",
    "#Renaming the columns to avoid clash while joining crl and nbi later on \n",
    "nbi.columns = ['Date','nbi_open','nbi_high','nbi_low','nbi_close','nbi_adjclose','nbi_volume']\n",
    "\n",
    "#Computing the price ratio difference as feature\n",
    "nbi['nbi_close_ratio'] = (nbi['nbi_close']/nbi['nbi_close'].shift(1) -1 ).fillna(0)\n",
    "\n",
    "\n",
    "\n",
    "nbi.head()"
   ]
  },
  {
   "cell_type": "markdown",
   "metadata": {},
   "source": [
    "### Step 2: Preprocessing the Data\n",
    "#### 2.1) Combining the two data frames crl and nbi "
   ]
  },
  {
   "cell_type": "code",
   "execution_count": 15,
   "metadata": {},
   "outputs": [
    {
     "data": {
      "text/html": [
       "<div>\n",
       "<style>\n",
       "    .dataframe thead tr:only-child th {\n",
       "        text-align: right;\n",
       "    }\n",
       "\n",
       "    .dataframe thead th {\n",
       "        text-align: left;\n",
       "    }\n",
       "\n",
       "    .dataframe tbody tr th {\n",
       "        vertical-align: top;\n",
       "    }\n",
       "</style>\n",
       "<table border=\"1\" class=\"dataframe\">\n",
       "  <thead>\n",
       "    <tr style=\"text-align: right;\">\n",
       "      <th></th>\n",
       "      <th>Date</th>\n",
       "      <th>Open</th>\n",
       "      <th>High</th>\n",
       "      <th>Low</th>\n",
       "      <th>Close</th>\n",
       "      <th>Adj Close</th>\n",
       "      <th>Volume</th>\n",
       "      <th>close_ratio</th>\n",
       "      <th>Vol_ratio</th>\n",
       "      <th>crl_future_1</th>\n",
       "      <th>Date</th>\n",
       "      <th>nbi_open</th>\n",
       "      <th>nbi_high</th>\n",
       "      <th>nbi_low</th>\n",
       "      <th>nbi_close</th>\n",
       "      <th>nbi_adjclose</th>\n",
       "      <th>nbi_volume</th>\n",
       "      <th>nbi_close_ratio</th>\n",
       "    </tr>\n",
       "  </thead>\n",
       "  <tbody>\n",
       "    <tr>\n",
       "      <th>0</th>\n",
       "      <td>2010-01-04</td>\n",
       "      <td>33.740002</td>\n",
       "      <td>33.810001</td>\n",
       "      <td>33.259998</td>\n",
       "      <td>33.570000</td>\n",
       "      <td>33.570000</td>\n",
       "      <td>1000600</td>\n",
       "      <td>0.000000</td>\n",
       "      <td>0.000000</td>\n",
       "      <td>33.759998</td>\n",
       "      <td>2010-01-04</td>\n",
       "      <td>851.830017</td>\n",
       "      <td>857.440002</td>\n",
       "      <td>851.380005</td>\n",
       "      <td>857.440002</td>\n",
       "      <td>857.440002</td>\n",
       "      <td>0</td>\n",
       "      <td>0.000000</td>\n",
       "    </tr>\n",
       "    <tr>\n",
       "      <th>1</th>\n",
       "      <td>2010-01-05</td>\n",
       "      <td>33.599998</td>\n",
       "      <td>33.790001</td>\n",
       "      <td>33.349998</td>\n",
       "      <td>33.759998</td>\n",
       "      <td>33.759998</td>\n",
       "      <td>553200</td>\n",
       "      <td>0.005660</td>\n",
       "      <td>-0.447132</td>\n",
       "      <td>33.310001</td>\n",
       "      <td>2010-01-05</td>\n",
       "      <td>856.039978</td>\n",
       "      <td>856.979980</td>\n",
       "      <td>846.400024</td>\n",
       "      <td>851.250000</td>\n",
       "      <td>851.250000</td>\n",
       "      <td>0</td>\n",
       "      <td>-0.007219</td>\n",
       "    </tr>\n",
       "    <tr>\n",
       "      <th>2</th>\n",
       "      <td>2010-01-06</td>\n",
       "      <td>33.720001</td>\n",
       "      <td>33.770000</td>\n",
       "      <td>32.970001</td>\n",
       "      <td>33.310001</td>\n",
       "      <td>33.310001</td>\n",
       "      <td>1066900</td>\n",
       "      <td>-0.013329</td>\n",
       "      <td>0.928597</td>\n",
       "      <td>34.619999</td>\n",
       "      <td>2010-01-06</td>\n",
       "      <td>852.559998</td>\n",
       "      <td>859.710022</td>\n",
       "      <td>852.539978</td>\n",
       "      <td>857.669983</td>\n",
       "      <td>857.669983</td>\n",
       "      <td>0</td>\n",
       "      <td>0.007542</td>\n",
       "    </tr>\n",
       "    <tr>\n",
       "      <th>3</th>\n",
       "      <td>2010-01-07</td>\n",
       "      <td>34.209999</td>\n",
       "      <td>34.650002</td>\n",
       "      <td>33.740002</td>\n",
       "      <td>34.619999</td>\n",
       "      <td>34.619999</td>\n",
       "      <td>1077300</td>\n",
       "      <td>0.039327</td>\n",
       "      <td>0.009748</td>\n",
       "      <td>34.389999</td>\n",
       "      <td>2010-01-07</td>\n",
       "      <td>856.869995</td>\n",
       "      <td>859.940002</td>\n",
       "      <td>851.630005</td>\n",
       "      <td>858.479980</td>\n",
       "      <td>858.479980</td>\n",
       "      <td>0</td>\n",
       "      <td>0.000944</td>\n",
       "    </tr>\n",
       "    <tr>\n",
       "      <th>4</th>\n",
       "      <td>2010-01-08</td>\n",
       "      <td>34.220001</td>\n",
       "      <td>35.080002</td>\n",
       "      <td>34.130001</td>\n",
       "      <td>34.389999</td>\n",
       "      <td>34.389999</td>\n",
       "      <td>982000</td>\n",
       "      <td>-0.006644</td>\n",
       "      <td>-0.088462</td>\n",
       "      <td>34.740002</td>\n",
       "      <td>2010-01-08</td>\n",
       "      <td>855.049988</td>\n",
       "      <td>863.489990</td>\n",
       "      <td>853.489990</td>\n",
       "      <td>863.270020</td>\n",
       "      <td>863.270020</td>\n",
       "      <td>0</td>\n",
       "      <td>0.005580</td>\n",
       "    </tr>\n",
       "  </tbody>\n",
       "</table>\n",
       "</div>"
      ],
      "text/plain": [
       "         Date       Open       High        Low      Close  Adj Close   Volume  \\\n",
       "0  2010-01-04  33.740002  33.810001  33.259998  33.570000  33.570000  1000600   \n",
       "1  2010-01-05  33.599998  33.790001  33.349998  33.759998  33.759998   553200   \n",
       "2  2010-01-06  33.720001  33.770000  32.970001  33.310001  33.310001  1066900   \n",
       "3  2010-01-07  34.209999  34.650002  33.740002  34.619999  34.619999  1077300   \n",
       "4  2010-01-08  34.220001  35.080002  34.130001  34.389999  34.389999   982000   \n",
       "\n",
       "   close_ratio  Vol_ratio  crl_future_1        Date    nbi_open    nbi_high  \\\n",
       "0     0.000000   0.000000     33.759998  2010-01-04  851.830017  857.440002   \n",
       "1     0.005660  -0.447132     33.310001  2010-01-05  856.039978  856.979980   \n",
       "2    -0.013329   0.928597     34.619999  2010-01-06  852.559998  859.710022   \n",
       "3     0.039327   0.009748     34.389999  2010-01-07  856.869995  859.940002   \n",
       "4    -0.006644  -0.088462     34.740002  2010-01-08  855.049988  863.489990   \n",
       "\n",
       "      nbi_low   nbi_close  nbi_adjclose  nbi_volume  nbi_close_ratio  \n",
       "0  851.380005  857.440002    857.440002           0         0.000000  \n",
       "1  846.400024  851.250000    851.250000           0        -0.007219  \n",
       "2  852.539978  857.669983    857.669983           0         0.007542  \n",
       "3  851.630005  858.479980    858.479980           0         0.000944  \n",
       "4  853.489990  863.270020    863.270020           0         0.005580  "
      ]
     },
     "execution_count": 15,
     "metadata": {},
     "output_type": "execute_result"
    }
   ],
   "source": [
    "df = pd.concat([crl,nbi],axis=1)\n",
    "df.head()"
   ]
  },
  {
   "cell_type": "markdown",
   "metadata": {},
   "source": [
    "Sorting the dataframe in ascending order"
   ]
  },
  {
   "cell_type": "code",
   "execution_count": 16,
   "metadata": {
    "collapsed": true
   },
   "outputs": [],
   "source": [
    "df.sort_index(ascending = True,inplace = True)"
   ]
  },
  {
   "cell_type": "markdown",
   "metadata": {},
   "source": [
    "#### 2.2) Plotting and Exploration\n",
    "Normalization is done for the two columns depicting the closing price of __CRL__ and __NBI__ to a feature range from 0 to 1. This normalization helps in plotting the two features on the same plot.\n",
    "\n",
    "Ideally featutres are normailized before passsing into a Neural Network. This helps in faster convergence. \n",
    "\n",
    "We are using close raio and nbi_close_ratio as features in our network which are scaled within the range of 0 to 1 so we don't need to normalize them again"
   ]
  },
  {
   "cell_type": "code",
   "execution_count": 17,
   "metadata": {},
   "outputs": [
    {
     "name": "stderr",
     "output_type": "stream",
     "text": [
      "C:\\Users\\Shantam Gupta\\Anaconda3\\lib\\site-packages\\sklearn\\preprocessing\\data.py:321: DeprecationWarning: Passing 1d arrays as data is deprecated in 0.17 and will raise ValueError in 0.19. Reshape your data either using X.reshape(-1, 1) if your data has a single feature or X.reshape(1, -1) if it contains a single sample.\n",
      "  warnings.warn(DEPRECATION_MSG_1D, DeprecationWarning)\n",
      "C:\\Users\\Shantam Gupta\\Anaconda3\\lib\\site-packages\\sklearn\\preprocessing\\data.py:356: DeprecationWarning: Passing 1d arrays as data is deprecated in 0.17 and will raise ValueError in 0.19. Reshape your data either using X.reshape(-1, 1) if your data has a single feature or X.reshape(1, -1) if it contains a single sample.\n",
      "  warnings.warn(DEPRECATION_MSG_1D, DeprecationWarning)\n",
      "C:\\Users\\Shantam Gupta\\Anaconda3\\lib\\site-packages\\sklearn\\preprocessing\\data.py:321: DeprecationWarning: Passing 1d arrays as data is deprecated in 0.17 and will raise ValueError in 0.19. Reshape your data either using X.reshape(-1, 1) if your data has a single feature or X.reshape(1, -1) if it contains a single sample.\n",
      "  warnings.warn(DEPRECATION_MSG_1D, DeprecationWarning)\n",
      "C:\\Users\\Shantam Gupta\\Anaconda3\\lib\\site-packages\\sklearn\\preprocessing\\data.py:356: DeprecationWarning: Passing 1d arrays as data is deprecated in 0.17 and will raise ValueError in 0.19. Reshape your data either using X.reshape(-1, 1) if your data has a single feature or X.reshape(1, -1) if it contains a single sample.\n",
      "  warnings.warn(DEPRECATION_MSG_1D, DeprecationWarning)\n"
     ]
    },
    {
     "data": {
      "image/png": "[encoded data removed]",
      "text/plain": [
       "<matplotlib.figure.Figure at 0x2ae392cc860>"
      ]
     },
     "metadata": {},
     "output_type": "display_data"
    }
   ],
   "source": [
    "#normalizing closing prices and storing it in a new column\n",
    "scaler1 = MinMaxScaler(feature_range=(0, 1))\n",
    "scaler2 = MinMaxScaler(feature_range=(0, 1))\n",
    "\n",
    "df['close_norm'] = scaler1.fit_transform(df['Close'])\n",
    "df['nbi_close_norm'] = scaler2.fit_transform(df['nbi_close'])\n",
    "df['crl_future_norm_1'] = df['close_norm'].shift(-1)\n",
    "\n",
    "#plottting the arrays\n",
    "plt.plot(df['close_norm'],'-r',label = 'CRL Closing Price')\n",
    "plt.plot(df['nbi_close_norm'],'-b',label = 'NBI Closing Price')\n",
    "plt.title(\"CRL NYSE & NBI NASDAQ closing stock price from 01-04-2010 to 07-11-2010\")\n",
    "plt.xlabel(\"Time in Days\")\n",
    "plt.ylabel(\"Closing Price of stock index in USD\")\n",
    "plt.legend(loc='upper left')\n",
    "plt.show()"
   ]
  },
  {
   "cell_type": "code",
   "execution_count": 18,
   "metadata": {},
   "outputs": [
    {
     "data": {
      "text/plain": [
       "array([[ 1.        ,  0.99227025],\n",
       "       [ 0.99227025,  1.        ]])"
      ]
     },
     "execution_count": 18,
     "metadata": {},
     "output_type": "execute_result"
    }
   ],
   "source": [
    "#Checking Pearsons Correlation\n",
    "#Presence of High Autocorrelation between crl close and crl_future(0.992)\n",
    "np.corrcoef(df.Close,df.crl_future_1)"
   ]
  },
  {
   "cell_type": "code",
   "execution_count": 19,
   "metadata": {},
   "outputs": [
    {
     "data": {
      "text/plain": [
       "array([[ 1.        ,  0.89546101],\n",
       "       [ 0.89546101,  1.        ]])"
      ]
     },
     "execution_count": 19,
     "metadata": {},
     "output_type": "execute_result"
    }
   ],
   "source": [
    "#Presence of High Correlation between nbi and crl_future(0.895)\n",
    "np.corrcoef(df.nbi_close,df.crl_future_1)"
   ]
  },
  {
   "cell_type": "code",
   "execution_count": 20,
   "metadata": {},
   "outputs": [
    {
     "data": {
      "text/plain": [
       "array([[ 1.       ,  0.8996143],\n",
       "       [ 0.8996143,  1.       ]])"
      ]
     },
     "execution_count": 20,
     "metadata": {},
     "output_type": "execute_result"
    }
   ],
   "source": [
    "#Presence of High Correlation between nbi and crl 0.899)\n",
    "np.corrcoef(df.nbi_close,df.Close)"
   ]
  },
  {
   "cell_type": "markdown",
   "metadata": {},
   "source": [
    "Presence of __high correlation__ between __CRL__ &  __NBI__ (amongst features) can pose a challenge. This lead to a higher challenge on selecting the right features for a Neural Network. "
   ]
  },
  {
   "cell_type": "markdown",
   "metadata": {},
   "source": [
    "### Step 3: Choosing an archcitecure for LSTM. \n",
    "\n",
    "We are using a many to one architecture for determing the future closing price CRL NYSE stock.\n",
    "\n",
    "[machinelearningmastery.com/models-sequence-prediction-recurrent-neural-networks/](http://machinelearningmastery.com/models-sequence-prediction-recurrent-neural-networks/)"
   ]
  },
  {
   "cell_type": "markdown",
   "metadata": {},
   "source": [
    "### Step 4: Splitting into Test and Train Data"
   ]
  },
  {
   "cell_type": "code",
   "execution_count": 21,
   "metadata": {},
   "outputs": [],
   "source": [
    "#taking 98% of the data points as train. This number can change.\n",
    "train_size = int(0.98*len(df))\n",
    "\n",
    "#segregating the inputs and ouput on the test and train data\n",
    "trainX = df.loc[1:train_size,['close_norm','nbi_close_norm','Vol_ratio','nbi_close_ratio','close_ratio']]\n",
    "trainY = df.loc[1:train_size,'crl_future_norm_1']\n",
    "testX = df.loc[1856:1891,['close_norm','nbi_close_norm','Vol_ratio','nbi_close_ratio','close_ratio']]\n",
    "testY = df.loc[1856:1891,'crl_future_norm_1']"
   ]
  },
  {
   "cell_type": "code",
   "execution_count": 22,
   "metadata": {
    "collapsed": true
   },
   "outputs": [],
   "source": [
    "#The inputs needed to be reshaped in the format of  a 3d Tensor with dimesnions = [batchsize,timesteps,features]\n",
    "trainX = np.reshape(np.array(trainX),(trainX.shape[0],1,trainX.shape[1]))\n",
    "testX= np.reshape(np.array(testX),(testX.shape[0],1,testX.shape[1]))"
   ]
  },
  {
   "cell_type": "markdown",
   "metadata": {},
   "source": [
    "### Step 5: Designing the Architeure of the Network\n",
    "\n",
    "Here we design the LSTM Layer architecture using keras and tensorflow as backend.\n",
    "\n",
    "The model is __Sequential__ i.e. more than one layer is used in the architectcure.\n",
    "The first layer has 50 LSTM units, The second one has 20. The input dimensions have to be specified for the first layer. Return_sequences is set to true determines whether to return the last output in the output sequence, or the full sequence.  Then we have added a linear dense activation for the final output.Also note that we have added dropout of 20% after the first layer to prevent overfitting on the train data.\n",
    "\n",
    "The choice of optimizer is Adam i.e. __Adaptive Moment Estimation__.\n",
    "[ruder.io/optimizing-gradient-descent/]([http://ruder.io/optimizing-gradient-descent/). \n",
    "\n",
    "We have selected __Mean Square Error__ as the loss function. We have taken a 10& validation split on train data to determine to optimize the hyperparamters in order to determine the best model\n",
    "\n",
    "\n",
    "The hyperparamters and lstm unit layer configurations  are chosen after trying different combinations in the architecture. for more details refere : [keras.io/](https://keras.io/)\n",
    "\n",
    "Note: There is internal shuffling between batches in keras which can be turned off if needed after training each batch.\n"
   ]
  },
  {
   "cell_type": "code",
   "execution_count": 23,
   "metadata": {},
   "outputs": [
    {
     "name": "stdout",
     "output_type": "stream",
     "text": [
      "Train on 1669 samples, validate on 186 samples\n",
      "Epoch 1/50\n",
      "24s - loss: 0.0095 - val_loss: 0.0028\n",
      "Epoch 2/50\n",
      "11s - loss: 0.0011 - val_loss: 0.0028\n",
      "Epoch 3/50\n",
      "11s - loss: 9.0782e-04 - val_loss: 2.6318e-04\n",
      "Epoch 4/50\n",
      "11s - loss: 5.4834e-04 - val_loss: 9.5340e-04\n",
      "Epoch 5/50\n",
      "11s - loss: 4.6131e-04 - val_loss: 4.3336e-04\n",
      "Epoch 6/50\n",
      "12s - loss: 4.5235e-04 - val_loss: 5.7278e-04\n",
      "Epoch 7/50\n",
      "11s - loss: 4.5867e-04 - val_loss: 2.7248e-04\n",
      "Epoch 8/50\n",
      "12s - loss: 4.4871e-04 - val_loss: 4.1912e-04\n",
      "Epoch 9/50\n",
      "11s - loss: 3.7379e-04 - val_loss: 3.7893e-04\n",
      "Epoch 10/50\n",
      "11s - loss: 3.5196e-04 - val_loss: 3.1798e-04\n",
      "Epoch 11/50\n",
      "11s - loss: 4.3525e-04 - val_loss: 2.7865e-04\n",
      "Epoch 12/50\n",
      "11s - loss: 3.1940e-04 - val_loss: 6.7938e-04\n",
      "Epoch 13/50\n",
      "11s - loss: 3.5786e-04 - val_loss: 3.0528e-04\n",
      "Epoch 14/50\n",
      "11s - loss: 3.5367e-04 - val_loss: 3.1335e-04\n",
      "Epoch 15/50\n",
      "11s - loss: 3.8613e-04 - val_loss: 6.3964e-04\n",
      "Epoch 16/50\n",
      "11s - loss: 3.2631e-04 - val_loss: 3.8086e-04\n",
      "Epoch 17/50\n",
      "11s - loss: 3.5219e-04 - val_loss: 0.0011\n",
      "Epoch 18/50\n",
      "12s - loss: 4.0300e-04 - val_loss: 8.8326e-04\n",
      "Epoch 19/50\n",
      "12s - loss: 3.2761e-04 - val_loss: 7.4935e-04\n",
      "Epoch 20/50\n",
      "12s - loss: 3.5714e-04 - val_loss: 7.4718e-04\n",
      "Epoch 21/50\n",
      "12s - loss: 3.2541e-04 - val_loss: 3.3918e-04\n",
      "Epoch 22/50\n",
      "11s - loss: 3.4765e-04 - val_loss: 6.2026e-04\n",
      "Epoch 23/50\n",
      "11s - loss: 3.1670e-04 - val_loss: 3.7615e-04\n",
      "Epoch 24/50\n",
      "12s - loss: 3.2933e-04 - val_loss: 5.1007e-04\n",
      "Epoch 25/50\n",
      "12s - loss: 3.2554e-04 - val_loss: 4.2077e-04\n",
      "Epoch 26/50\n",
      "12s - loss: 3.1987e-04 - val_loss: 5.2289e-04\n",
      "Epoch 27/50\n",
      "11s - loss: 3.5000e-04 - val_loss: 4.0931e-04\n",
      "Epoch 28/50\n",
      "12s - loss: 3.2497e-04 - val_loss: 3.4366e-04\n",
      "Epoch 29/50\n",
      "11s - loss: 3.1294e-04 - val_loss: 0.0014\n",
      "Epoch 30/50\n",
      "11s - loss: 3.1547e-04 - val_loss: 5.6200e-04\n",
      "Epoch 31/50\n",
      "11s - loss: 3.1198e-04 - val_loss: 5.5929e-04\n",
      "Epoch 32/50\n",
      "11s - loss: 3.2309e-04 - val_loss: 4.1681e-04\n",
      "Epoch 33/50\n",
      "12s - loss: 3.3120e-04 - val_loss: 5.7304e-04\n",
      "Epoch 34/50\n",
      "13s - loss: 3.0456e-04 - val_loss: 6.0008e-04\n",
      "Epoch 35/50\n",
      "13s - loss: 3.0528e-04 - val_loss: 3.8983e-04\n",
      "Epoch 36/50\n",
      "12s - loss: 3.2030e-04 - val_loss: 7.0254e-04\n",
      "Epoch 37/50\n",
      "11s - loss: 2.8565e-04 - val_loss: 0.0011\n",
      "Epoch 38/50\n",
      "12s - loss: 3.1333e-04 - val_loss: 3.2927e-04\n",
      "Epoch 39/50\n",
      "12s - loss: 3.1948e-04 - val_loss: 4.0905e-04\n",
      "Epoch 40/50\n",
      "12s - loss: 3.0132e-04 - val_loss: 5.3569e-04\n",
      "Epoch 41/50\n",
      "12s - loss: 2.9479e-04 - val_loss: 3.5012e-04\n",
      "Epoch 42/50\n",
      "12s - loss: 2.9487e-04 - val_loss: 3.5633e-04\n",
      "Epoch 43/50\n",
      "12s - loss: 3.1657e-04 - val_loss: 2.7675e-04\n",
      "Epoch 44/50\n",
      "12s - loss: 3.0076e-04 - val_loss: 9.4413e-04\n",
      "Epoch 45/50\n",
      "12s - loss: 2.9232e-04 - val_loss: 7.2659e-04\n",
      "Epoch 46/50\n",
      "11s - loss: 3.0646e-04 - val_loss: 4.0698e-04\n",
      "Epoch 47/50\n",
      "12s - loss: 3.0360e-04 - val_loss: 3.5597e-04\n",
      "Epoch 48/50\n",
      "11s - loss: 2.6602e-04 - val_loss: 3.0741e-04\n",
      "Epoch 49/50\n",
      "11s - loss: 2.9281e-04 - val_loss: 5.2847e-04\n",
      "Epoch 50/50\n",
      "11s - loss: 2.7187e-04 - val_loss: 3.2529e-04\n",
      "Compilation Time :  632.3207483291626\n"
     ]
    }
   ],
   "source": [
    "model = Sequential()\n",
    "model.add(LSTM(50 ,batch_input_shape=(1,trainX.shape[1],trainX.shape[2]),return_sequences = True))\n",
    "model.add(Dropout(0.10))\n",
    "model.add(LSTM(20))\n",
    "model.add(Dense(1))\n",
    "adam = optimizers.Adam(lr=0.001, beta_1=0.9, beta_2=0.999, epsilon=1e-08, decay=0.0)\n",
    "model.compile(loss='mean_squared_error', optimizer=adam)\n",
    "epochs = 50\n",
    "start = time.time()\n",
    "m = model.fit(trainX, np.array(trainY), epochs = epochs, batch_size=1, verbose=2,validation_split=0.1)\n",
    "print (\"Compilation Time : \", time.time() - start)"
   ]
  },
  {
   "cell_type": "code",
   "execution_count": 24,
   "metadata": {},
   "outputs": [
    {
     "data": {
      "image/png": "[encoded data removed]",
      "text/plain": [
       "<matplotlib.figure.Figure at 0x2ae39319cf8>"
      ]
     },
     "metadata": {},
     "output_type": "display_data"
    }
   ],
   "source": [
    "# summarize model for loss\n",
    "plt.plot(m.history['loss'])\n",
    "plt.plot(m.history['val_loss'])\n",
    "plt.title('model loss')\n",
    "plt.ylabel('loss-Mean Squared Error')\n",
    "plt.xlabel('epoch')\n",
    "plt.legend(['Train', 'Valid'], loc='upper left')\n",
    "plt.show()"
   ]
  },
  {
   "cell_type": "markdown",
   "metadata": {},
   "source": [
    "Increasing epochs after the first few observations doesn't reduce the train and validation losses. Thus a low dimensional epoch setting could work in this case or we can try a different architecture setting and explore.(It is diffuclt to guess whether the minima is local or global)\n",
    "\n",
    "We might have  have to retrain and reduce the number of epochs while training to prevent overfititng on train."
   ]
  },
  {
   "cell_type": "markdown",
   "metadata": {},
   "source": [
    "### Step 6: Prediction on Test Data Points "
   ]
  },
  {
   "cell_type": "code",
   "execution_count": 25,
   "metadata": {},
   "outputs": [
    {
     "name": "stderr",
     "output_type": "stream",
     "text": [
      "C:\\Users\\Shantam Gupta\\Anaconda3\\lib\\site-packages\\sklearn\\preprocessing\\data.py:374: DeprecationWarning: Passing 1d arrays as data is deprecated in 0.17 and will raise ValueError in 0.19. Reshape your data either using X.reshape(-1, 1) if your data has a single feature or X.reshape(1, -1) if it contains a single sample.\n",
      "  warnings.warn(DEPRECATION_MSG_1D, DeprecationWarning)\n"
     ]
    },
    {
     "data": {
      "image/png": "[encoded data removed]",
      "text/plain": [
       "<matplotlib.figure.Figure at 0x2ae39319c88>"
      ]
     },
     "metadata": {},
     "output_type": "display_data"
    }
   ],
   "source": [
    "testPredict = model.predict(testX,batch_size = 1)\n",
    "plt.plot(scaler1.inverse_transform(testPredict),'-b',label = 'Predicted CRL  Closing Price')\n",
    "plt.plot(scaler1.inverse_transform(testY),'-g',label = 'Actual CRL Closing Price')\n",
    "plt.title(\"CRL NYSE Actual & Predicted Closing Price from 18-05-2017 to 07-10-2010\")\n",
    "plt.xlabel(\"Time in Days\")\n",
    "plt.ylabel(\"Closing Price of stock index in USD\")\n",
    "plt.legend(loc='upper left')\n",
    "plt.show()  "
   ]
  },
  {
   "cell_type": "code",
   "execution_count": 26,
   "metadata": {},
   "outputs": [
    {
     "data": {
      "text/plain": [
       "array([[  89.96392822],\n",
       "       [  89.7950058 ],\n",
       "       [  90.8946228 ],\n",
       "       [  90.74931335],\n",
       "       [  91.96529388],\n",
       "       [  92.35351562],\n",
       "       [  92.59049988],\n",
       "       [  91.90805817],\n",
       "       [  92.25065613],\n",
       "       [  93.82273865],\n",
       "       [  94.00009155],\n",
       "       [  93.57545471],\n",
       "       [  93.26940918],\n",
       "       [  93.5761795 ],\n",
       "       [  95.38062286],\n",
       "       [  94.36672974],\n",
       "       [  93.49760437],\n",
       "       [  94.14471436],\n",
       "       [  95.06259918],\n",
       "       [  94.89658356],\n",
       "       [  95.91854095],\n",
       "       [  97.76055908],\n",
       "       [  99.26689911],\n",
       "       [  99.78723145],\n",
       "       [ 100.33530426],\n",
       "       [ 100.09960938],\n",
       "       [ 100.07330322],\n",
       "       [  99.35740662],\n",
       "       [ 101.02457428],\n",
       "       [ 101.27753448],\n",
       "       [ 100.55880737],\n",
       "       [ 100.54257965],\n",
       "       [ 101.64113617],\n",
       "       [  98.83407593],\n",
       "       [  99.90863037],\n",
       "       [  99.08281708]], dtype=float32)"
      ]
     },
     "execution_count": 26,
     "metadata": {},
     "output_type": "execute_result"
    }
   ],
   "source": [
    "#transforming back the original predictions\n",
    "scaler1.inverse_transform(testPredict)"
   ]
  },
  {
   "cell_type": "markdown",
   "metadata": {},
   "source": [
    "We can try out different architectures and configurations to optimize the task further!"
   ]
  },
  {
   "cell_type": "markdown",
   "metadata": {},
   "source": [
    "### Reference Links\n",
    "- [Machinelearningmastery blogs by Dr Jason Brownlee](http://machinelearningmastery.com/blog/)\n",
    "- [Forecasting with Neural Networks](https://www.youtube.com/watch?v=lGaXq_Kgr2Y)\n",
    "- [Long Short-Term Memory by Hochreiter & Schimdhuber](http://www.bioinf.jku.at/publications/older/2604.pdf)"
   ]
  }
 ],
 "metadata": {
  "kernelspec": {
   "display_name": "Python 3",
   "language": "python",
   "name": "python3"
  },
  "language_info": {
   "codemirror_mode": {
    "name": "ipython",
    "version": 3
   },
   "file_extension": ".py",
   "mimetype": "text/x-python",
   "name": "python",
   "nbconvert_exporter": "python",
   "pygments_lexer": "ipython3",
   "version": "3.5.3"
  }
 },
 "nbformat": 4,
 "nbformat_minor": 2
}
